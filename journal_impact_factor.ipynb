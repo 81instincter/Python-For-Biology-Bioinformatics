{
 "cells": [
  {
   "cell_type": "markdown",
   "id": "3ea03c74-5de9-452d-b22b-66c3984f1eda",
   "metadata": {},
   "source": [
    "# Scholarly Journal Impact Factor Display \n",
    "Background: The impact factor is a concept created by librarians for optimizing shelf arrangement for scientific articles. It tells how much of an impact a specific journal has made on other scientific articles based on how often it is quoted in other articles. It is defined as the number of quotations referring to the journal in question divided by the number of articles in the journal. \n",
    "\n",
    "Purpose: The program serves as a template for reading a text file line by line and scrape the names of each journal and their impact factor. The journal names and their impact factors will be sorted, stored together, and displayed in the output console side by side with each other. The file can later be used for reading data from files that were made after data was collected from webscraping applications.\n",
    "\n",
    "### Sources: \n",
    "- Flaig, Ruediger-Marcus. \"Bioinformatics Programming in Python: A Practical Course for Beginners.\" WILEY-VCH Verlag GmbH & Co KGaA, 2008.\n",
    "- \"Insertion Sort.\" GeeksForGeeks.com, 21 Feb. 2025. Retrieved from URL: https://www.geeksforgeeks.org/python-program-for-insertion-sort/.\n",
    "- \"Filter() in Python.\" GeeksForGeeks.com, 11 Dec. 2024. Retrieved from URL: https://www.geeksforgeeks.org/filter-in-python/.\n",
    "- \"Python sys Module.\" GeeksForGeeks.com, 18 Nov. 2023. Retrieved from URL: https://www.geeksforgeeks.org/python-sys-module/.\n",
    "- \"sort.\" Python Reference (The Right Way). Retrieved from URL: https://python-reference.readthedocs.io/en/latest/docs/list/sort.html."
   ]
  },
  {
   "cell_type": "code",
   "execution_count": 145,
   "id": "f0504e29-e625-4bcb-bc94-9f36e3e2f6fb",
   "metadata": {},
   "outputs": [],
   "source": [
    "import string, sys # load modules for strings and system access. sys is used for scripting purposes in a command line terminal"
   ]
  },
  {
   "cell_type": "code",
   "execution_count": 96,
   "id": "da859890-8d53-43cd-a4cd-e1949710d5e9",
   "metadata": {},
   "outputs": [],
   "source": [
    "delim = 25 # \"magic number\" for formatting, value is determined by the format of the file"
   ]
  },
  {
   "cell_type": "code",
   "execution_count": 98,
   "id": "60981439-c184-49ab-a109-24f9e0f6b6ca",
   "metadata": {},
   "outputs": [],
   "source": [
    "# Getting the text file\n",
    "fil, jlist, rlist = open(\"impact-factor.txt\", \"r\"), [], []"
   ]
  },
  {
   "cell_type": "code",
   "execution_count": 108,
   "id": "bbf614a6-0035-45bd-99a4-ebaad4c378e3",
   "metadata": {},
   "outputs": [],
   "source": [
    "for line in fil: # scan the file line by line to create a list of tuples\n",
    "    if line != \"\" or line != \" \": # skip empty lines if there are any\n",
    "        journal, fact = line.strip(line[delim:]), line.strip(line[:delim])\n",
    "        # cut line\n",
    "        if fact == \"\" or fact == \" \": fact = \"0.0\" # used if the journal does not have a recorded impact factor\n",
    "        jlist += [(journal, float(fact))] # build a list of (journal,impact) itmes "
   ]
  },
  {
   "cell_type": "code",
   "execution_count": 110,
   "id": "6eb58102-9016-4175-99c5-540710f66bde",
   "metadata": {},
   "outputs": [
    {
     "data": {
      "text/plain": [
       "[('AARGH BULL', 1.419),\n",
       " ('ABHOR MATH SEM HAMBURG', 0.115),\n",
       " ('ABOMINABLE IMAGING', 0.891),\n",
       " ('AC/DC', 2.904),\n",
       " ('ACRASIOLOGIA', 0.095),\n",
       " ('ACCOUNTS IRREPROD RES', 11.795),\n",
       " ('ADVANCED DARK ARTS J', 1.748),\n",
       " ('ZUCKER & EPILEPTIKER', 0.003),\n",
       " ('ZYZZYX LETTERS', 0.815)]"
      ]
     },
     "execution_count": 110,
     "metadata": {},
     "output_type": "execute_result"
    }
   ],
   "source": [
    "jlist"
   ]
  },
  {
   "cell_type": "code",
   "execution_count": 104,
   "id": "b5704dc6-fa4b-4dfb-a6a2-fff925af43e8",
   "metadata": {},
   "outputs": [],
   "source": [
    "# Screen the jlist for presence of keywords\n",
    "for j in jlist:\n",
    "    acceptable = True\n",
    "    for arg in sys.argv[1:]:\n",
    "        (a,b) = j # \"a\" is name, \"b\" is impact factor\n",
    "        if a.find(arg) < 0: # if substring is not found, returns a -1, indicating false\n",
    "            acceptable = False # no match was found in jlist for keyword\n",
    "            break # no need to test for other args\n",
    "    if acceptable: rlist += [j] # if found, adds the item to rlist"
   ]
  },
  {
   "cell_type": "code",
   "execution_count": 125,
   "id": "160ed2ef-1d13-4326-86b6-7c1e9ea63b18",
   "metadata": {},
   "outputs": [
    {
     "data": {
      "text/plain": [
       "[]"
      ]
     },
     "execution_count": 125,
     "metadata": {},
     "output_type": "execute_result"
    }
   ],
   "source": [
    "rlist"
   ]
  },
  {
   "cell_type": "code",
   "execution_count": 106,
   "id": "a37a2290-9e29-4374-88a0-fc16913e0453",
   "metadata": {},
   "outputs": [],
   "source": [
    "# Displays rlist, which now holds all the \"(name, impact)\" tuples of all the journals matching the inputted query\n",
    "list.sort(rlist)\n",
    "for item in rlist:\n",
    "    print(\"%20s ---> %2.3f\" % item)"
   ]
  },
  {
   "cell_type": "markdown",
   "id": "bbc69dc6-8092-4153-8521-64915f26718d",
   "metadata": {},
   "source": [
    "### The Functional Reusable Code"
   ]
  },
  {
   "cell_type": "code",
   "execution_count": 241,
   "id": "47e3dbe4-9778-440c-bb73-f85991da19f3",
   "metadata": {},
   "outputs": [],
   "source": [
    "def getfile(fname, delim):\n",
    "    \"\"\"Read the fname file and converts it into a list of tuples\"\"\"\n",
    "    \n",
    "    fil, jlist = open(fname, \"r\"), []\n",
    "    \n",
    "    for line in fil: # scan the file line by line to create a list of tuples\n",
    "        if line != \"\" or line != \" \": # skip empty lines if there are any\n",
    "            journal, fact = line.strip(line[delim:]), line.strip(line[:delim])\n",
    "            # cut line\n",
    "            if fact == \"\" or fact == \" \": fact = \"0.0\" # used if the journal does not have a recorded impact factor\n",
    "            jlist += [(journal, float(fact))] # build a list of (journal,impact) items\n",
    "            \n",
    "    return jlist"
   ]
  },
  {
   "cell_type": "code",
   "execution_count": 243,
   "id": "18098dbe-7a1f-492d-9d31-762d840c9ae6",
   "metadata": {},
   "outputs": [],
   "source": [
    "def jn_contains (j,t):\n",
    "    \"\"\"Checks to see if the journal name contains the search term, \n",
    "    and returns a True or False value.\"\"\"\n",
    "    (a,b) = j\n",
    "    return a.find(t) >= 0 "
   ]
  },
  {
   "cell_type": "code",
   "execution_count": 245,
   "id": "20dd62e6-2817-4e74-899b-d0d76251913c",
   "metadata": {},
   "outputs": [],
   "source": [
    "def ldump(l):\n",
    "    \"\"\"Prints the filtered list\"\"\"\n",
    "    \n",
    "    def insertionSort(l):\n",
    "        \"\"\"Judgement function for sorting. Takes 2 tuples and compares the second component of them.\n",
    "        Used for sorting the list in terms of impact factor instead of by names.\"\"\"\n",
    "        n = len(l)\n",
    "    \n",
    "        if n <= 1:\n",
    "            return # list is already sorted if it has 0 or 1 elements\n",
    "        \n",
    "        for i in range(1, n): # iterate over the list, starting from the second element\n",
    "            key = l[i] # stores the current element as the key to be inserted in the right position\n",
    "            j = i - 1\n",
    "            while j >= 0 and key[1] < l[j][1]: # move elements greater than the key's impact factor one position ahead\n",
    "                l[j+1] = l[j] # shift elements to the right\n",
    "                j -= 1\n",
    "            l[j+1] = key # insert the key with the higher impact factor value in the correct position\n",
    "\n",
    "    # Sorting the list\n",
    "    insertionSort(l)\n",
    "\n",
    "    # Printing sorted list\n",
    "    for item in l: print (\"%30s ---> %2.3f\" % item)"
   ]
  },
  {
   "cell_type": "markdown",
   "id": "52323b0a-534b-403c-8092-14a0c79bcb91",
   "metadata": {},
   "source": [
    "#### Main Program"
   ]
  },
  {
   "cell_type": "code",
   "execution_count": 248,
   "id": "cb5b2df6-2c9b-4126-a070-cc64d829aef2",
   "metadata": {},
   "outputs": [
    {
     "data": {
      "text/plain": [
       "[('AARGH BULL                 1.4', 9.0),\n",
       " ('ABHOR MATH SEM HAMBURG     0.', 5.0),\n",
       " ('ABOMINABLE IMAGING         0.8', 91.0),\n",
       " ('AC/DC                      2.9', 4.0),\n",
       " ('ACRASIOLOGIA               0.0', 95.0),\n",
       " ('ACCOUNTS IRREPROD RES      11.', 795.0),\n",
       " ('ADVANCED DARK ARTS J       1.7', 48.0),\n",
       " ('ZUCKER & EPILEPTIKER       0.', 3.0),\n",
       " ('ZYZZYX LETTERS             0.8', 15.0)]"
      ]
     },
     "execution_count": 248,
     "metadata": {},
     "output_type": "execute_result"
    }
   ],
   "source": [
    "jl = getfile(\"impact-factor.txt\", 30)\n",
    "jl"
   ]
  },
  {
   "cell_type": "code",
   "execution_count": 252,
   "id": "c70b110a-8249-4a46-9a73-301e99f9560d",
   "metadata": {},
   "outputs": [
    {
     "name": "stdout",
     "output_type": "stream",
     "text": [
      " ZUCKER & EPILEPTIKER       0. ---> 3.000\n",
      "AC/DC                      2.9 ---> 4.000\n",
      " ABHOR MATH SEM HAMBURG     0. ---> 5.000\n",
      "AARGH BULL                 1.4 ---> 9.000\n",
      "ZYZZYX LETTERS             0.8 ---> 15.000\n",
      "ADVANCED DARK ARTS J       1.7 ---> 48.000\n",
      "ABOMINABLE IMAGING         0.8 ---> 91.000\n",
      "ACRASIOLOGIA               0.0 ---> 95.000\n",
      "ACCOUNTS IRREPROD RES      11. ---> 795.000\n"
     ]
    }
   ],
   "source": [
    "ldump(jl)"
   ]
  },
  {
   "cell_type": "code",
   "execution_count": 254,
   "id": "bd167004-731b-4e08-86c5-5e2d3fd1fc41",
   "metadata": {},
   "outputs": [],
   "source": [
    "for arg in sys.argv[1:]: \n",
    "    jl = filter(lambda j:jn_contains(j, arg), jl)"
   ]
  },
  {
   "cell_type": "markdown",
   "id": "819ff6d3-3c1c-43d4-a962-85d29127caa7",
   "metadata": {},
   "source": [
    "The filter() function filters the given sequence by testing each element in the sequence given sequence to be true or not."
   ]
  },
  {
   "attachments": {},
   "cell_type": "markdown",
   "id": "437de0c6-abac-43ff-9c25-278245db32b8",
   "metadata": {},
   "source": [
    "The line \"for arg in sys.argv[1:]:\" is used for command-line arguments passed to a Python script. \n",
    "- argv[0] is the name of the Python script\n",
    "- argv[1:] are the arguments passed to the Python script \n",
    "\n",
    "(Eg)\n",
    "##### bash\n",
    "python script.py input.txt output.txt log.txt\n",
    "\n",
    "\n",
    "##### Python\n",
    "import sys\n",
    "\n",
    "for arg in sys.argv[1:]:\n",
    "\n",
    "    print(f\"Argument: {arg}\")\n",
    "\n",
    "\n",
    "##### Output\n",
    "\n",
    "Argument: input.txt\n",
    "Argument: output.txt\n",
    "Argument: log.txt"
   ]
  }
 ],
 "metadata": {
  "kernelspec": {
   "display_name": "Python 3 (ipykernel)",
   "language": "python",
   "name": "python3"
  },
  "language_info": {
   "codemirror_mode": {
    "name": "ipython",
    "version": 3
   },
   "file_extension": ".py",
   "mimetype": "text/x-python",
   "name": "python",
   "nbconvert_exporter": "python",
   "pygments_lexer": "ipython3",
   "version": "3.9.13"
  }
 },
 "nbformat": 4,
 "nbformat_minor": 5
}
